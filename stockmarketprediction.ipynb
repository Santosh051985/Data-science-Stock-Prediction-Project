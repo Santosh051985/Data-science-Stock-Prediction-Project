{
 "cells": [
  {
   "cell_type": "markdown",
   "metadata": {},
   "source": [
    "# stock market prediction"
   ]
  },
  {
   "cell_type": "code",
   "execution_count": 3,
   "metadata": {},
   "outputs": [],
   "source": [
    "    #DataFlair - Make necessary imports\n",
    "    import quandl\n",
    "    import numpy as np \n",
    "    from sklearn.linear_model import LinearRegression\n",
    "    from sklearn.svm import SVR\n",
    "    from sklearn.model_selection import train_test_split"
   ]
  },
  {
   "cell_type": "code",
   "execution_count": 4,
   "metadata": {},
   "outputs": [
    {
     "name": "stdout",
     "output_type": "stream",
     "text": [
      "             Open   High    Low  Close     Volume  Ex-Dividend  Split Ratio  \\\n",
      "Date                                                                          \n",
      "1997-05-16  22.38  23.75  20.50  20.75  1225000.0          0.0          1.0   \n",
      "1997-05-19  20.50  21.25  19.50  20.50   508900.0          0.0          1.0   \n",
      "1997-05-20  20.75  21.00  19.63  19.63   455600.0          0.0          1.0   \n",
      "1997-05-21  19.25  19.75  16.50  17.13  1571100.0          0.0          1.0   \n",
      "1997-05-22  17.25  17.38  15.75  16.75   981400.0          0.0          1.0   \n",
      "\n",
      "            Adj. Open  Adj. High  Adj. Low  Adj. Close  Adj. Volume  \n",
      "Date                                                                 \n",
      "1997-05-16   1.865000   1.979167  1.708333    1.729167   14700000.0  \n",
      "1997-05-19   1.708333   1.770833  1.625000    1.708333    6106800.0  \n",
      "1997-05-20   1.729167   1.750000  1.635833    1.635833    5467200.0  \n",
      "1997-05-21   1.604167   1.645833  1.375000    1.427500   18853200.0  \n",
      "1997-05-22   1.437500   1.448333  1.312500    1.395833   11776800.0  \n"
     ]
    }
   ],
   "source": [
    "    #DataFlair - Get Amazon stock data\n",
    "    amazon = quandl.get(\"WIKI/AMZN\")\n",
    "    print(amazon.head())"
   ]
  },
  {
   "cell_type": "code",
   "execution_count": 5,
   "metadata": {},
   "outputs": [
    {
     "name": "stdout",
     "output_type": "stream",
     "text": [
      "            Adj. Close\n",
      "Date                  \n",
      "1997-05-16    1.729167\n",
      "1997-05-19    1.708333\n",
      "1997-05-20    1.635833\n",
      "1997-05-21    1.427500\n",
      "1997-05-22    1.395833\n"
     ]
    }
   ],
   "source": [
    "    #DataFlair - Get only the data for the Adjusted Close column\n",
    "    amazon = amazon[['Adj. Close']]\n",
    "    print(amazon.head())"
   ]
  },
  {
   "cell_type": "code",
   "execution_count": 15,
   "metadata": {},
   "outputs": [
    {
     "name": "stdout",
     "output_type": "stream",
     "text": [
      "            Adj. Close  Predicted\n",
      "Date                             \n",
      "2018-03-21     1581.86        NaN\n",
      "2018-03-22     1544.10        NaN\n",
      "2018-03-23     1495.56        NaN\n",
      "2018-03-26     1555.86        NaN\n",
      "2018-03-27     1497.05        NaN\n"
     ]
    }
   ],
   "source": [
    "    #DataFlair - Predict for 30 days; Predicted has the data of Adj. Close shifted up by 30 rows\n",
    "    forecast_len=30\n",
    "    amazon['Predicted'] = amazon[['Adj. Close']].shift(-forecast_len)\n",
    "    print(amazon.tail())"
   ]
  },
  {
   "cell_type": "code",
   "execution_count": 16,
   "metadata": {},
   "outputs": [
    {
     "name": "stdout",
     "output_type": "stream",
     "text": [
      "[[  1.72916667]\n",
      " [  1.70833333]\n",
      " [  1.63583333]\n",
      " ...\n",
      " [795.9       ]\n",
      " [799.02      ]\n",
      " [813.64      ]]\n"
     ]
    }
   ],
   "source": [
    "    #DataFlair - Drop the Predicted column, turn it into a NumPy array to create dataset\n",
    "    x=np.array(amazon.drop(['Predicted'],1))\n",
    "    #DataFlair - Remove last 30 rows\n",
    "    x=x[:-forecast_len]\n",
    "    print(x)"
   ]
  },
  {
   "cell_type": "code",
   "execution_count": 17,
   "metadata": {},
   "outputs": [
    {
     "name": "stdout",
     "output_type": "stream",
     "text": [
      "[  20.93333333   19.81666667   17.96666667 ... 1495.56       1555.86\n",
      " 1497.05      ]\n"
     ]
    }
   ],
   "source": [
    "    #DataFlair - Create dependent dataset for predicted values, remove the last 30 rows\n",
    "    y=np.array(amazon['Predicted'])\n",
    "    y=y[:-forecast_len]\n",
    "    print(y)"
   ]
  },
  {
   "cell_type": "code",
   "execution_count": 18,
   "metadata": {},
   "outputs": [],
   "source": [
    "    #DataFlair - Split datasets into training and test sets (80% and 20%)\n",
    "    x_train,x_test,y_train,y_test=train_test_split(x,y,test_size=0.2)"
   ]
  },
  {
   "cell_type": "code",
   "execution_count": 19,
   "metadata": {},
   "outputs": [
    {
     "data": {
      "text/plain": [
       "SVR(C=1000.0, cache_size=200, coef0=0.0, degree=3, epsilon=0.1, gamma=0.1,\n",
       "    kernel='rbf', max_iter=-1, shrinking=True, tol=0.001, verbose=False)"
      ]
     },
     "execution_count": 19,
     "metadata": {},
     "output_type": "execute_result"
    }
   ],
   "source": [
    "    #DataFlair - Create SVR model and train it\n",
    "    svr_rbf=SVR(kernel='rbf',C=1e3,gamma=0.1) \n",
    "    svr_rbf.fit(x_train,y_train)"
   ]
  },
  {
   "cell_type": "code",
   "execution_count": 20,
   "metadata": {},
   "outputs": [
    {
     "name": "stdout",
     "output_type": "stream",
     "text": [
      "SVR Confidence: 94.26542%\n"
     ]
    }
   ],
   "source": [
    "    #DataFlair - Get score\n",
    "    svr_rbf_confidence=svr_rbf.score(x_test,y_test)\n",
    "    print(f\"SVR Confidence: {round(svr_rbf_confidence*100,5)}%\")"
   ]
  },
  {
   "cell_type": "code",
   "execution_count": 21,
   "metadata": {},
   "outputs": [
    {
     "data": {
      "text/plain": [
       "LinearRegression(copy_X=True, fit_intercept=True, n_jobs=None, normalize=False)"
      ]
     },
     "execution_count": 21,
     "metadata": {},
     "output_type": "execute_result"
    }
   ],
   "source": [
    "    #DataFlair - Create Linear Regression model and train it\n",
    "    lr=LinearRegression()\n",
    "    lr.fit(x_train,y_train)"
   ]
  },
  {
   "cell_type": "code",
   "execution_count": 22,
   "metadata": {},
   "outputs": [
    {
     "name": "stdout",
     "output_type": "stream",
     "text": [
      "Linear Regression Confidence: 93.65%\n"
     ]
    }
   ],
   "source": [
    "    #DataFlair - Get score for Linear Regression\n",
    "    lr_confidence=lr.score(x_test,y_test)\n",
    "    print(f\"Linear Regression Confidence: {round(lr_confidence*100,2)}%\")"
   ]
  },
  {
   "cell_type": "code",
   "execution_count": 29,
   "metadata": {},
   "outputs": [
    {
     "name": "stdout",
     "output_type": "stream",
     "text": [
      "               Open     High      Low    Close     Volume  Ex-Dividend  \\\n",
      "Date                                                                     \n",
      "2018-03-21  1586.45  1590.00  1563.17  1581.86  4667291.0          0.0   \n",
      "2018-03-22  1565.47  1573.85  1542.40  1544.10  6177737.0          0.0   \n",
      "2018-03-23  1539.01  1549.02  1495.36  1495.56  7843966.0          0.0   \n",
      "2018-03-26  1530.00  1556.99  1499.25  1555.86  5547618.0          0.0   \n",
      "2018-03-27  1572.40  1575.96  1482.32  1497.05  6793279.0          0.0   \n",
      "\n",
      "            Split Ratio  Adj. Open  Adj. High  Adj. Low  Adj. Close  \\\n",
      "Date                                                                  \n",
      "2018-03-21          1.0    1586.45    1590.00   1563.17     1581.86   \n",
      "2018-03-22          1.0    1565.47    1573.85   1542.40     1544.10   \n",
      "2018-03-23          1.0    1539.01    1549.02   1495.36     1495.56   \n",
      "2018-03-26          1.0    1530.00    1556.99   1499.25     1555.86   \n",
      "2018-03-27          1.0    1572.40    1575.96   1482.32     1497.05   \n",
      "\n",
      "            Adj. Volume  \n",
      "Date                     \n",
      "2018-03-21    4667291.0  \n",
      "2018-03-22    6177737.0  \n",
      "2018-03-23    7843966.0  \n",
      "2018-03-26    5547618.0  \n",
      "2018-03-27    6793279.0  \n"
     ]
    }
   ],
   "source": [
    "import quandl\n",
    "import pandas as pd\n",
    "import numpy as np\n",
    "import datetime\n",
    "\n",
    "from sklearn.linear_model import LinearRegression\n",
    "from sklearn import preprocessing, svm\n",
    "from sklearn.model_selection import cross_validate\n",
    "\n",
    "amazon = quandl.get(\"WIKI/AMZN\")\n",
    "print(amazon.tail())"
   ]
  },
  {
   "cell_type": "code",
   "execution_count": 49,
   "metadata": {},
   "outputs": [
    {
     "name": "stdout",
     "output_type": "stream",
     "text": [
      "               Open     High      Low    Close     Volume  Ex-Dividend  \\\n",
      "Date                                                                     \n",
      "2018-03-21  1586.45  1590.00  1563.17  1581.86  4667291.0          0.0   \n",
      "2018-03-22  1565.47  1573.85  1542.40  1544.10  6177737.0          0.0   \n",
      "2018-03-23  1539.01  1549.02  1495.36  1495.56  7843966.0          0.0   \n",
      "2018-03-26  1530.00  1556.99  1499.25  1555.86  5547618.0          0.0   \n",
      "2018-03-27  1572.40  1575.96  1482.32  1497.05  6793279.0          0.0   \n",
      "\n",
      "            Split Ratio  Adj. Open  Adj. High  Adj. Low  Adj. Close  \\\n",
      "Date                                                                  \n",
      "2018-03-21          1.0    1586.45    1590.00   1563.17     1581.86   \n",
      "2018-03-22          1.0    1565.47    1573.85   1542.40     1544.10   \n",
      "2018-03-23          1.0    1539.01    1549.02   1495.36     1495.56   \n",
      "2018-03-26          1.0    1530.00    1556.99   1499.25     1555.86   \n",
      "2018-03-27          1.0    1572.40    1575.96   1482.32     1497.05   \n",
      "\n",
      "            Adj. Volume  \n",
      "Date                     \n",
      "2018-03-21    4667291.0  \n",
      "2018-03-22    6177737.0  \n",
      "2018-03-23    7843966.0  \n",
      "2018-03-26    5547618.0  \n",
      "2018-03-27    6793279.0  \n",
      "#####       print Data    ######\n",
      "             Open   High    Low  Close     Volume  Ex-Dividend  Split Ratio  \\\n",
      "Date                                                                          \n",
      "1997-05-16  22.38  23.75  20.50  20.75  1225000.0          0.0          1.0   \n",
      "1997-05-19  20.50  21.25  19.50  20.50   508900.0          0.0          1.0   \n",
      "1997-05-20  20.75  21.00  19.63  19.63   455600.0          0.0          1.0   \n",
      "1997-05-21  19.25  19.75  16.50  17.13  1571100.0          0.0          1.0   \n",
      "1997-05-22  17.25  17.38  15.75  16.75   981400.0          0.0          1.0   \n",
      "\n",
      "            Adj. Open  Adj. High  Adj. Low  Adj. Close  Adj. Volume  \n",
      "Date                                                                 \n",
      "1997-05-16   1.865000   1.979167  1.708333    1.729167   14700000.0  \n",
      "1997-05-19   1.708333   1.770833  1.625000    1.708333    6106800.0  \n",
      "1997-05-20   1.729167   1.750000  1.635833    1.635833    5467200.0  \n",
      "1997-05-21   1.604167   1.645833  1.375000    1.427500   18853200.0  \n",
      "1997-05-22   1.437500   1.448333  1.312500    1.395833   11776800.0  \n",
      "       #########       Confidence     #########      \n",
      "confidence:  0.9878481571082405\n",
      " ***********Fore cast  Prediction      ***********\n",
      "[1501.64995129 1540.53252882 1551.92914638 1538.02122934 1558.94163094\n",
      " 1574.4457129  1576.4036752  1592.62071083 1615.97792421 1605.36874801\n",
      " 1605.86887969 1585.65079066 1592.88673831 1617.74434672 1632.67380931\n",
      " 1640.50565853 1647.80545278 1676.5683447  1697.31848871 1686.45392613\n",
      " 1689.45471618 1680.21824183 1668.89611197 1640.43117083 1684.67686251\n",
      " 1679.72875125 1639.54795958 1587.89606265 1652.06189258 1589.48158648]\n"
     ]
    }
   ],
   "source": [
    "import quandl\n",
    "import pandas as pd\n",
    "import numpy as np\n",
    "import datetime\n",
    "\n",
    "from sklearn.linear_model import LinearRegression\n",
    "from sklearn import preprocessing, svm\n",
    "from sklearn.model_selection import cross_validate\n",
    "from sklearn.model_selection import train_test_split\n",
    "\n",
    "\n",
    "amazon = quandl.get(\"WIKI/AMZN\")\n",
    "print(amazon.tail())\n",
    "amazon = amazon[['Adj. Close']]\n",
    "forecast_out = int(30)             # predicting 30 days into future\n",
    "amazon['Prediction'] = amazon[['Adj. Close']].shift(-forecast_out) \n",
    "print(\"\"\"#####       print Data    ######\"\"\")\n",
    "print(df.head())\n",
    "\n",
    "X = np.array(amazon.drop(['Prediction'], 1))\n",
    "X = preprocessing.scale(X)\n",
    "\n",
    "X_forecast = X[-forecast_out:] # set X_forecast equal to last 30\n",
    "X = X[:-forecast_out] # remove last 30 from X\n",
    "\n",
    "y = np.array(amazon['Prediction'])\n",
    "y = y[:-forecast_out]\n",
    "\n",
    "X_train, X_test, y_train, y_test = train_test_split(X, y, test_size = 0.2)\n",
    "\n",
    "\n",
    "\n",
    "# Training\n",
    "clf = LinearRegression()\n",
    "clf.fit(X_train,y_train)\n",
    "# Testing\n",
    "confidence = clf.score(X_test, y_test)\n",
    "print(\"\"\"       #########       Confidence     #########      \"\"\")\n",
    "print(\"confidence: \", confidence)\n",
    "\n",
    "forecast_prediction = clf.predict(X_forecast)\n",
    "print(\"\"\" ***********Fore cast  Prediction      ***********\"\"\")\n",
    "print(forecast_prediction)"
   ]
  },
  {
   "cell_type": "code",
   "execution_count": 52,
   "metadata": {},
   "outputs": [
    {
     "name": "stdout",
     "output_type": "stream",
     "text": [
      "               Open     High      Low    Close     Volume  Ex-Dividend  \\\n",
      "Date                                                                     \n",
      "2018-03-21  1586.45  1590.00  1563.17  1581.86  4667291.0          0.0   \n",
      "2018-03-22  1565.47  1573.85  1542.40  1544.10  6177737.0          0.0   \n",
      "2018-03-23  1539.01  1549.02  1495.36  1495.56  7843966.0          0.0   \n",
      "2018-03-26  1530.00  1556.99  1499.25  1555.86  5547618.0          0.0   \n",
      "2018-03-27  1572.40  1575.96  1482.32  1497.05  6793279.0          0.0   \n",
      "\n",
      "            Split Ratio  Adj. Open  Adj. High  Adj. Low  Adj. Close  \\\n",
      "Date                                                                  \n",
      "2018-03-21          1.0    1586.45    1590.00   1563.17     1581.86   \n",
      "2018-03-22          1.0    1565.47    1573.85   1542.40     1544.10   \n",
      "2018-03-23          1.0    1539.01    1549.02   1495.36     1495.56   \n",
      "2018-03-26          1.0    1530.00    1556.99   1499.25     1555.86   \n",
      "2018-03-27          1.0    1572.40    1575.96   1482.32     1497.05   \n",
      "\n",
      "            Adj. Volume  \n",
      "Date                     \n",
      "2018-03-21    4667291.0  \n",
      "2018-03-22    6177737.0  \n",
      "2018-03-23    7843966.0  \n",
      "2018-03-26    5547618.0  \n",
      "2018-03-27    6793279.0  \n",
      "#####       print Data    ######\n",
      "             Open   High    Low  Close     Volume  Ex-Dividend  Split Ratio  \\\n",
      "Date                                                                          \n",
      "1997-05-16  22.38  23.75  20.50  20.75  1225000.0          0.0          1.0   \n",
      "1997-05-19  20.50  21.25  19.50  20.50   508900.0          0.0          1.0   \n",
      "1997-05-20  20.75  21.00  19.63  19.63   455600.0          0.0          1.0   \n",
      "1997-05-21  19.25  19.75  16.50  17.13  1571100.0          0.0          1.0   \n",
      "1997-05-22  17.25  17.38  15.75  16.75   981400.0          0.0          1.0   \n",
      "\n",
      "            Adj. Open  Adj. High  Adj. Low  Adj. Close  Adj. Volume  \n",
      "Date                                                                 \n",
      "1997-05-16   1.865000   1.979167  1.708333    1.729167   14700000.0  \n",
      "1997-05-19   1.708333   1.770833  1.625000    1.708333    6106800.0  \n",
      "1997-05-20   1.729167   1.750000  1.635833    1.635833    5467200.0  \n",
      "1997-05-21   1.604167   1.645833  1.375000    1.427500   18853200.0  \n",
      "1997-05-22   1.437500   1.448333  1.312500    1.395833   11776800.0  \n",
      "       #########       Confidence     #########      \n",
      "confidence:  0.9758208019450377\n",
      " ***********Fore cast  Prediction      ***********\n",
      "[1304.13299587 1326.01193706 1343.02018253 1349.05536641 1370.9455046\n",
      " 1390.79778849 1397.32564044 1399.15075171 1424.17605035 1456.109899\n",
      " 1455.72920095 1444.68895734 1442.80786106 1444.21868327 1480.86646961\n",
      " 1520.31350635 1514.68141453 1537.56808586 1564.55285979 1582.05377334\n",
      " 1604.60453462 1620.08998788 1551.06047283 1596.96817951 1558.47288791\n",
      " 1610.22542944 1581.04604319 1506.79872538 1493.94456751 1546.83920321\n",
      " 1578.50432382 1619.41816778 1631.41015653 1616.7756754  1638.7889806\n",
      " 1655.10301198 1657.16326028 1674.22749076 1698.80490934 1687.64149872\n",
      " 1688.16775779 1666.89345469 1674.5074158  1700.66361161 1716.3730049\n",
      " 1724.6139981  1732.29514122 1762.56063663 1784.39478981 1772.96265114\n",
      " 1776.1202056  1766.40120818 1754.48759845 1724.53561909 1771.09275187\n",
      " 1765.88614611 1723.60626795 1669.25602204 1736.77394187 1670.92437528]\n"
     ]
    },
    {
     "data": {
      "image/png": "[encoded data removed]",
      "text/plain": [
       "<Figure size 1440x1080 with 2 Axes>"
      ]
     },
     "metadata": {
      "needs_background": "light"
     },
     "output_type": "display_data"
    }
   ],
   "source": [
    "import quandl\n",
    "import pandas as pd\n",
    "import numpy as np\n",
    "import datetime\n",
    "\n",
    "from sklearn.linear_model import LinearRegression\n",
    "from sklearn import preprocessing, svm\n",
    "from sklearn.model_selection import cross_validate\n",
    "from sklearn.model_selection import train_test_split\n",
    "\n",
    "\n",
    "amazon = quandl.get(\"WIKI/AMZN\")\n",
    "print(amazon.tail())\n",
    "amazon = amazon[['Adj. Close']]\n",
    "forecast_out = int(60)             # predicting 60 days into future\n",
    "amazon['Prediction'] = amazon[['Adj. Close']].shift(-forecast_out) \n",
    "print(\"\"\"#####      Print Data    ######\"\"\")\n",
    "print(df.head())\n",
    "\n",
    "X = np.array(amazon.drop(['Prediction'], 1))\n",
    "X = preprocessing.scale(X)\n",
    "\n",
    "X_forecast = X[-forecast_out:] # set X_forecast equal to last 30\n",
    "X = X[:-forecast_out] # remove last 30 from X\n",
    "\n",
    "y = np.array(amazon['Prediction'])\n",
    "y = y[:-forecast_out]\n",
    "\n",
    "X_train, X_test, y_train, y_test = train_test_split(X, y, test_size = 0.2)\n",
    "\n",
    "\n",
    "\n",
    "# Training\n",
    "clf = LinearRegression()\n",
    "clf.fit(X_train,y_train)\n",
    "# Testing\n",
    "confidence = clf.score(X_test, y_test)\n",
    "print(\"\"\"       #########       Confidence     #########      \"\"\")\n",
    "print(\"confidence: \", confidence)\n",
    "\n",
    "forecast_prediction = clf.predict(X_forecast)\n",
    "print(\"\"\" ***********Fore cast  Prediction      ***********\"\"\")\n",
    "print(forecast_prediction)\n",
    "%matplotlib inline\n",
    "import matplotlib.pyplot as plt\n",
    "amazon.hist(bins=20,figsize=(20,15))\n",
    "plt.show()"
   ]
  },
  {
   "cell_type": "code",
   "execution_count": null,
   "metadata": {},
   "outputs": [],
   "source": []
  }
 ],
 "metadata": {
  "kernelspec": {
   "display_name": "Python 3",
   "language": "python",
   "name": "python3"
  },
  "language_info": {
   "codemirror_mode": {
    "name": "ipython",
    "version": 3
   },
   "file_extension": ".py",
   "mimetype": "text/x-python",
   "name": "python",
   "nbconvert_exporter": "python",
   "pygments_lexer": "ipython3",
   "version": "3.7.4"
  }
 },
 "nbformat": 4,
 "nbformat_minor": 2
}
